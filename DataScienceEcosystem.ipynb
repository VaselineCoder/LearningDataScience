{
 "cells": [
  {
   "cell_type": "markdown",
   "id": "26af4acf-811f-47bf-aaef-cc975a7cce6e",
   "metadata": {},
   "source": [
    "# Data Science Tools and Ecosystem"
   ]
  },
  {
   "cell_type": "markdown",
   "id": "3913395a-425d-4fa6-8b0f-7866f6c7898c",
   "metadata": {},
   "source": [
    "In this notebook, Data Science Tools and Ecosystem are summarized."
   ]
  },
  {
   "cell_type": "markdown",
   "id": "379c2826-e1ac-4920-bcc5-82323d23e9d6",
   "metadata": {},
   "source": [
    "**Objectives:**"
   ]
  },
  {
   "cell_type": "markdown",
   "id": "197f631e-a079-4d8b-99a6-6833bdf1f217",
   "metadata": {},
   "source": [
    "- List Programming languages used by Data Scientists.\n",
    "- List commonly used libraries that can be used with these languages.\n",
    "- List commonly used open-source integrated development environments. \n",
    "- Review examples of basic arithmetic expressions."
   ]
  },
  {
   "cell_type": "markdown",
   "id": "61e479b1-cbd7-4a8a-b3a9-fb8e32b95868",
   "metadata": {},
   "source": [
    "Data Scientists use and are fluent in a host of different programming and computer languages that are necessary for them to be successful in their role. Some examples of languages Data Scientists use are:"
   ]
  },
  {
   "cell_type": "markdown",
   "id": "f000d85c-b5c8-40d1-88ff-01276ff4b3d4",
   "metadata": {},
   "source": [
    "1. Python;\n",
    "2. R;\n",
    "3. Julia."
   ]
  },
  {
   "cell_type": "markdown",
   "id": "cb802491-e78a-4d85-97f8-cf9caf64b153",
   "metadata": {},
   "source": [
    "Data Scientists use libraries that accompany these languages in order to improve upon their work. Some of the commonly used libraries are:"
   ]
  },
  {
   "cell_type": "markdown",
   "id": "745a63ef-fd11-41c2-b779-937b25ca7744",
   "metadata": {
    "tags": []
   },
   "source": [
    "1. NumPy (Python)\n",
    "2. Pandas (Python)\n",
    "3. Tidyverse (R)\n",
    "4. RCPA3 (R)\n",
    "5. car (R)"
   ]
  },
  {
   "cell_type": "markdown",
   "id": "70130c77-67ba-4a3f-bdcc-7ae42c185266",
   "metadata": {},
   "source": [
    "| Data Science Tools |\n",
    "----\n",
    "| Jupyter Notebooks |\n",
    "| RStudio |\n",
    "| Anaconda Navigator |"
   ]
  },
  {
   "cell_type": "markdown",
   "id": "b071b858-edb1-42f5-862f-300a3b9b19ad",
   "metadata": {},
   "source": [
    "### Arithmetic is an integral part of being a data scientist. Without knowledge of arithmetic and how arithmetic expressions are written and solved, Data Scientists would not be able to effectively determine relationships between variables and the effects they can have. Here are some basic example arithmetic expressions used in Python:"
   ]
  },
  {
   "cell_type": "code",
   "execution_count": 4,
   "id": "bc28ed9a-3ba8-45da-80c6-fc9245f42dcc",
   "metadata": {
    "tags": []
   },
   "outputs": [
    {
     "data": {
      "text/plain": [
       "17"
      ]
     },
     "execution_count": 4,
     "metadata": {},
     "output_type": "execute_result"
    }
   ],
   "source": [
    "# This is an arithmetic expression based on BODMAS rule whereby the expression \"3 x 4\" is solved within the bracket, and its resulting answer is added to 5.\n",
    "\n",
    "(3*4)+5"
   ]
  },
  {
   "cell_type": "code",
   "execution_count": 5,
   "id": "567d227b-a3d6-466c-9696-8df578a0e7c3",
   "metadata": {
    "tags": []
   },
   "outputs": [
    {
     "data": {
      "text/plain": [
       "3.3333333333333335"
      ]
     },
     "execution_count": 5,
     "metadata": {},
     "output_type": "execute_result"
    }
   ],
   "source": [
    "# This expression will convert 200 minutes to hours by diving the total number minutes given by the number of minutes in an hour, 60.\n",
    "\n",
    "200/60"
   ]
  },
  {
   "cell_type": "markdown",
   "id": "1a80a933-9729-49b3-b99c-ae5c0a421946",
   "metadata": {},
   "source": [
    "## Author"
   ]
  },
  {
   "cell_type": "markdown",
   "id": "33c0f781-985c-4690-8bdf-3a2342486035",
   "metadata": {},
   "source": [
    "Shamel Bhimani"
   ]
  }
 ],
 "metadata": {
  "kernelspec": {
   "display_name": "Python",
   "language": "python",
   "name": "conda-env-python-py"
  },
  "language_info": {
   "codemirror_mode": {
    "name": "ipython",
    "version": 3
   },
   "file_extension": ".py",
   "mimetype": "text/x-python",
   "name": "python",
   "nbconvert_exporter": "python",
   "pygments_lexer": "ipython3",
   "version": "3.7.12"
  }
 },
 "nbformat": 4,
 "nbformat_minor": 5
}
